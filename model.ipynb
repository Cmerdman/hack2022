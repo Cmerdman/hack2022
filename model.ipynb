{
 "cells": [
  {
   "cell_type": "code",
   "execution_count": null,
   "metadata": {},
   "outputs": [],
   "source": [
    "import pandas as pd\n",
    "import numpy as np\n",
    "\n",
    "from sklearn.model_selection import train_test_split\n",
    "from sklearn.metrics import r2_score\n",
    "from sklearn import metrics\n",
    "\n",
    "from sklearn.linear_model import Lasso\n",
    "from sklearn import svm\n",
    "from sklearn.ensemble import RandomForestClassifier\n",
    "from sklearn.tree import DecisionTreeClassifier\n",
    "from sklearn.linear_model import LogisticRegression\n",
    "from sklearn.naive_bayes import GaussianNB\n",
    "\n",
    "\n",
    "import matplotlib.pyplot as plt\n",
    "import plotly.express as px"
   ]
  },
  {
   "cell_type": "code",
   "execution_count": null,
   "metadata": {},
   "outputs": [],
   "source": [
    "datA = pd.read_csv(\"datAClean.csv\")\n",
    "datB = pd.read_csv(\"datBClean.csv\")\n",
    "datC = pd.read_csv(\"datCClean.csv\")\n",
    "datD = pd.read_csv(\"datDClean.csv\")\n",
    "datE = pd.read_csv(\"datEClean.csv\")\n",
    "datF = pd.read_csv(\"datFClean.csv\")\n",
    "datG = pd.read_csv(\"datGClean.csv\")\n",
    "datH = pd.read_csv(\"datHClean.csv\")\n",
    "datI = pd.read_csv(\"datIClean.csv\")\n",
    "datJ = pd.read_csv(\"datJClean.csv\")\n",
    "\n",
    "dats = [datA, datB, datC, datD, datE, datF, datG, datH, datI, datJ]\n",
    "dat = pd.concat(dats)\n",
    "\n",
    "dat = dat.drop(\"Unnamed: 0\", axis=1)"
   ]
  },
  {
   "cell_type": "code",
   "execution_count": null,
   "metadata": {},
   "outputs": [],
   "source": [
    "dat.head()"
   ]
  },
  {
   "cell_type": "code",
   "execution_count": null,
   "metadata": {},
   "outputs": [],
   "source": [
    "dat = dat.dropna()"
   ]
  },
  {
   "cell_type": "code",
   "execution_count": null,
   "metadata": {},
   "outputs": [],
   "source": [
    "yColumns = ['Date & Time', 'onLineStatus', 'okStatus', 'runUpStatus', 'repairStatus', 'maintenanceStatus', 'faultStatus', 'gridFaultStatus', 'weatherOutageStatus', 'externalOutageStatus']\n",
    "\n",
    "X = dat.drop(columns = yColumns,axis=1)\n",
    "Y = dat['onLineStatus']\n",
    "\n",
    "x_train, x_test, y_train, y_test = train_test_split(X, Y, test_size = 0.33, random_state=45)"
   ]
  },
  {
   "cell_type": "code",
   "execution_count": null,
   "metadata": {},
   "outputs": [],
   "source": [
    "Y.sum()/len(Y)"
   ]
  },
  {
   "cell_type": "markdown",
   "metadata": {},
   "source": [
    "Training models to determine"
   ]
  },
  {
   "cell_type": "code",
   "execution_count": null,
   "metadata": {},
   "outputs": [],
   "source": [
    "def trainlasso(x_train, x_test, y_train, y_test):\n",
    "    lasso_regressor = Lasso(alpha = 0.1, fit_intercept= True, max_iter = 20000).fit(x_train, y_train)\n",
    "\n",
    "    print(\"Training score (R^2): \", lasso_regressor.score(x_train, y_train))\n",
    "\n",
    "    lasso_pred = lasso_regressor.predict(x_test)\n",
    "\n",
    "    print(\"Testing score (R^2) : \", r2_score(y_test, lasso_pred))\n",
    "    print(\"Mean Squared Error  : \", metrics.mean_squared_error(y_test, lasso_pred))\n"
   ]
  },
  {
   "cell_type": "code",
   "execution_count": null,
   "metadata": {},
   "outputs": [],
   "source": [
    "def trainAll(x_train, x_test, y_train, y_test):\n",
    "    #svm\n",
    "    svm_model = svm.SVC(kernel='linear')\n",
    "    svm_model.fit( x_train, y_train )\n",
    "    #random forest\n",
    "    rand_model = RandomForestClassifier(n_estimators=500)\n",
    "    rand_model.fit( x_train, y_train )\n",
    "    #naive bayes\n",
    "    naive_model = GaussianNB()\n",
    "    naive_model.fit( x_train, y_train )\n",
    "    #decision tree\n",
    "    dec_model = DecisionTreeClassifier()\n",
    "    dec_model.fit( x_train, y_train )\n",
    "    #log\n",
    "    log_model = LogisticRegression()    \n",
    "    log_model.fit( x_train, y_train )\n",
    "    #lasso\n",
    "    lasso_regressor = Lasso(alpha = 0.1, fit_intercept= True, max_iter = 20000).fit(x_train, y_train)\n",
    "\n",
    "\n",
    "\n",
    "\n",
    "    log_pred = log_model.predict( x_test )          \n",
    "    dec_pred = dec_model.predict( x_test )\n",
    "    naive_pred = naive_model.predict( x_test )\n",
    "    rand_pred = rand_model.predict( x_test )\n",
    "    svm_pred = svm_model.predict( x_test )\n",
    "    lasso_pred = lasso_regressor.predict(x_test)\n",
    "\n",
    "\n",
    "\n",
    "\n",
    "    print(\"Accuracy on test set by logistic regression sklearn model   :  \", metrics.accuracy_score(y_test, log_pred) * 100)\n",
    "    print(\"Accuracy on test set by decision tree sklearn model   :  \", metrics.accuracy_score(y_test, dec_pred) * 100)\n",
    "    print(\"Accuracy on test set by naive bayes sklearn model   :  \", metrics.accuracy_score(y_test, naive_pred) * 100)\n",
    "    print(\"Accuracy on test set by random forest sklearn model   :  \", metrics.accuracy_score(y_test, rand_pred) * 100)\n",
    "    print(\"Accuracy on test set by support vector machine sklearn model   :  \", metrics.accuracy_score(y_test, svm_pred) * 100)\n",
    "    print(\"Accuracy on test set by lasso regressor sklearn model   :  \", metrics.accuracy_score(y_test, lasso_pred) * 100)"
   ]
  },
  {
   "cell_type": "code",
   "execution_count": null,
   "metadata": {},
   "outputs": [],
   "source": [
    "trainAll(x_train, x_test, y_train, y_test)\n",
    "trainlasso(x_train, x_test, y_train, y_test)"
   ]
  },
  {
   "cell_type": "markdown",
   "metadata": {},
   "source": [
    "Recursive Feature Elimination"
   ]
  },
  {
   "cell_type": "code",
   "execution_count": null,
   "metadata": {},
   "outputs": [],
   "source": [
    "# importing required libraries\n",
    "from sklearn.linear_model import LogisticRegression\n",
    "from sklearn.feature_selection import RFE\n",
    "\n",
    "# create the object of the model\n",
    "lreg = LogisticRegression()\n",
    "\n",
    "\n",
    "# specify the number of  features to select \n",
    "rfe = RFE(lreg, n_features_to_select=5)\n",
    "\n",
    "# fit the model\n",
    "rfe = rfe.fit(x_train, y_train)"
   ]
  },
  {
   "cell_type": "code",
   "execution_count": null,
   "metadata": {},
   "outputs": [],
   "source": [
    "print('\\n\\nFEATUERS SELECTED\\n\\n')\n",
    "print(rfe.support_)\n",
    "\n",
    "print('\\n\\nRANKING OF FEATURES\\n\\n')\n",
    "print(rfe.ranking_)\n",
    "\n",
    "y_pred = rfe.predict(x_test)\n",
    "print(\"Testing score (R^2) : \", metrics.accuracy_score(y_test, y_pred) * 100)"
   ]
  },
  {
   "cell_type": "code",
   "execution_count": null,
   "metadata": {},
   "outputs": [],
   "source": [
    "X[X.columns[rfe.get_support()]]"
   ]
  },
  {
   "cell_type": "markdown",
   "metadata": {},
   "source": [
    "performance for each status value"
   ]
  },
  {
   "cell_type": "code",
   "execution_count": null,
   "metadata": {},
   "outputs": [],
   "source": [
    "def allYs():\n",
    "  arrs = []\n",
    "  yColumns = ['Date & Time', 'onLineStatus', 'okStatus', 'runUpStatus', 'repairStatus', 'maintenanceStatus', 'faultStatus', 'gridFaultStatus', 'weatherOutageStatus', 'externalOutageStatus']\n",
    "  for y in yColumns:\n",
    "      if y != 'Date & Time':\n",
    "\n",
    "        X = dat.drop(columns = [x for x in yColumns if x != y],axis=1)\n",
    "        Y = dat['onLineStatus']\n",
    "\n",
    "        x_train, x_test, y_train, y_test = train_test_split(X, Y, test_size = 0.33, random_state=45)\n",
    "\n",
    "        log_model = LogisticRegression()    \n",
    "        log_model.fit( x_train, y_train )\n",
    "\n",
    "        log_pred = log_model.predict( x_test )          \n",
    "\n",
    "        arrs += [\" \".join([\"Accuracy on test set \", str(y),   \" by logistic regression sklearn model   :  \", str(metrics.accuracy_score(y_test, log_pred) * 100)])] \n",
    "  return(arrs)"
   ]
  },
  {
   "cell_type": "code",
   "execution_count": null,
   "metadata": {},
   "outputs": [],
   "source": [
    "strs = allYs()"
   ]
  },
  {
   "cell_type": "code",
   "execution_count": null,
   "metadata": {},
   "outputs": [],
   "source": [
    "strs"
   ]
  },
  {
   "cell_type": "markdown",
   "metadata": {},
   "source": [
    "energy lost when out"
   ]
  },
  {
   "cell_type": "code",
   "execution_count": null,
   "metadata": {},
   "outputs": [],
   "source": [
    "dat[dat['onLineStatus'] != 1][['EXPECTED POWER', 'POWER']]"
   ]
  },
  {
   "cell_type": "code",
   "execution_count": null,
   "metadata": {},
   "outputs": [],
   "source": [
    "dat[dat['onLineStatus'] != 1][['EXPECTED POWER']].mean().iloc[0] - (dat[dat['onLineStatus'] != 1][['POWER']].mean()).iloc[0]"
   ]
  },
  {
   "cell_type": "markdown",
   "metadata": {},
   "source": [
    "Identify faulty turbines"
   ]
  },
  {
   "cell_type": "code",
   "execution_count": null,
   "metadata": {},
   "outputs": [],
   "source": [
    "def turbinePred (dats, log_model):\n",
    "  arrs = []\n",
    "  for d in dats:\n",
    "    d = d.drop([\"Unnamed: 0\", 'GEARBOX BEARING TEMPERATURE INTERMEDIATE SHAFT GENERATOR SIDE (ROTOR SIDE)'], axis=1, errors='ignore')\n",
    "    d = d.dropna()\n",
    "    yColumns = ['Date & Time', 'onLineStatus', 'okStatus', 'runUpStatus', 'repairStatus', 'maintenanceStatus', 'faultStatus', 'gridFaultStatus', 'weatherOutageStatus', 'externalOutageStatus']\n",
    "\n",
    "    X = d.drop(columns = yColumns,axis=1) \n",
    "    Y = d['onLineStatus']\n",
    "\n",
    "    x_train, x_test, y_train, y_test = train_test_split(X, Y, test_size = 0.33, random_state=45)  \n",
    "\n",
    "    log_pred = log_model.predict( x_test )          \n",
    "    arrs += [log_pred.sum() / len(log_pred)] \n",
    "\n",
    "  return(arrs)"
   ]
  },
  {
   "cell_type": "code",
   "execution_count": null,
   "metadata": {},
   "outputs": [],
   "source": [
    "log_model = trainAll(x_train, x_test, y_train, y_test)\n",
    "arrs = turbinePred(dats, log_model)"
   ]
  },
  {
   "cell_type": "code",
   "execution_count": null,
   "metadata": {},
   "outputs": [],
   "source": [
    "arrs"
   ]
  }
 ],
 "metadata": {
  "kernelspec": {
   "display_name": "Python 3.9.13 ('base')",
   "language": "python",
   "name": "python3"
  },
  "language_info": {
   "name": "python",
   "version": "3.9.13"
  },
  "orig_nbformat": 4,
  "vscode": {
   "interpreter": {
    "hash": "943e22c115f48dd68f18abe4516ac05772957178c3374de64336f94ef4f6adb1"
   }
  }
 },
 "nbformat": 4,
 "nbformat_minor": 2
}
